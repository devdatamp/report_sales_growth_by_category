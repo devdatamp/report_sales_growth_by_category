{
 "cells": [
  {
   "cell_type": "code",
   "execution_count": 30,
   "metadata": {},
   "outputs": [],
   "source": [
    "import pandas as pd\n",
    "import numpy as np\n",
    "import datetime\n",
    "import warnings\n",
    "\n",
    "warnings.filterwarnings('ignore')\n",
    "pd.set_option('display.max_columns', None)"
   ]
  },
  {
   "cell_type": "code",
   "execution_count": 48,
   "metadata": {},
   "outputs": [],
   "source": [
    "def load(month):\n",
    "    string = f\"{month}\"\n",
    "    print(string)\n",
    "    \n",
    "def extract(*month):\n",
    "    print(month)\n",
    "    for m in month:\n",
    "        print(m)"
   ]
  },
  {
   "cell_type": "code",
   "execution_count": 49,
   "metadata": {},
   "outputs": [],
   "source": [
    "month = '05'\n",
    "def main(*month):\n",
    "    print(month)\n",
    "    extract(*month)\n",
    "    load(*month)"
   ]
  },
  {
   "cell_type": "code",
   "execution_count": 50,
   "metadata": {},
   "outputs": [
    {
     "name": "stdout",
     "output_type": "stream",
     "text": [
      "('05',)\n",
      "('05',)\n",
      "05\n",
      "05\n"
     ]
    }
   ],
   "source": [
    "main(month)"
   ]
  },
  {
   "cell_type": "code",
   "execution_count": 56,
   "metadata": {},
   "outputs": [
    {
     "name": "stdout",
     "output_type": "stream",
     "text": [
      "('05', '06')\n"
     ]
    }
   ],
   "source": [
    "month = '05', '06'\n",
    "def test(*month):\n",
    "    print(*month)\n",
    "test(month)"
   ]
  },
  {
   "cell_type": "markdown",
   "metadata": {},
   "source": [
    "# Extract Data"
   ]
  },
  {
   "cell_type": "code",
   "execution_count": 2,
   "metadata": {},
   "outputs": [],
   "source": [
    "def extract_data_sales_offline(year: str, *months):\n",
    "    # Data Existing\n",
    "    df_offline = pd.DataFrame()\n",
    "\n",
    "    for month in months:\n",
    "        data_offline = pd.read_parquet(\n",
    "            f\"s3://mega-dev-lake/ProcessedData/Sales/sales_detail_indie/{year}/{month}/data.parquet\"\n",
    "        )\n",
    "\n",
    "        data_offline = data_offline[\n",
    "            (data_offline[\"status_order\"] != 7)\n",
    "            & (data_offline[\"issettled\"] != False)\n",
    "            & (data_offline[\"istransaction\"] != \"0\")\n",
    "            & (data_offline[\"channel\"] != \"ONLINE\")\n",
    "        ]\n",
    "\n",
    "        df_offline = pd.concat([df_offline, data_offline])\n",
    "\n",
    "    df_offline[\"order_create_date\"] = pd.to_datetime(\n",
    "        df_offline[\"order_create_date\"]\n",
    "    ).dt.strftime(\"%Y-%m-%d\")\n",
    "    return df_offline\n",
    "\n",
    "\n",
    "def extract_data_sales_online(year: str, *months):\n",
    "    df_online = pd.DataFrame()\n",
    "\n",
    "    for month in months:\n",
    "        data_online = pd.read_parquet(\n",
    "            f\"s3://mega-dev-lake/ProcessedData/Sales/sales_online/{year}/{month}/data.parquet\"\n",
    "        )\n",
    "\n",
    "        df_online = pd.concat([df_online, data_online])\n",
    "\n",
    "    df_online.columns = df_online.columns.str.lower()\n",
    "    df_online.columns = df_online.columns.str.replace(\" \", \"_\")\n",
    "    df_online = df_online[df_online[\"status_sales\"] != \"CANCELED\"]\n",
    "    df_online[\"date\"] = pd.to_datetime(df_online[\"date\"]).dt.strftime(\"%Y-%m-%d\")\n",
    "\n",
    "    df_online[\"marketplace\"] = np.where(\n",
    "        df_online[\"marketplace\"].isin(\n",
    "            [\n",
    "                \"MANZONESTORE.ID\",\n",
    "                \"MINIMALSTORE.ID\",\n",
    "                \"MOCSTORE.ID\",\n",
    "                \"WEBSITE\",\n",
    "            ]\n",
    "        ),\n",
    "        \"SHOPIFY\",\n",
    "        df_online[\"marketplace\"],\n",
    "    )\n",
    "    \n",
    "    return df_online\n",
    "\n",
    "\n",
    "def extract_pattern_data(pattern_path, sheet_name, *months):\n",
    "    # Data Pattern\n",
    "    pattern = pd.read_excel(pattern_path, sheet_name=sheet_name)\n",
    "    list_month = [month for month in months]\n",
    "\n",
    "    pattern = pattern[\n",
    "        pd.to_datetime(pattern[\"pattern_date\"]).dt.strftime(\"%m\").isin(list_month)\n",
    "    ]\n",
    "    pattern[\"pattern_date\"] = pd.to_datetime(pattern[\"pattern_date\"]).dt.strftime(\n",
    "        \"%Y-%m-%d\"\n",
    "    )\n",
    "    pattern[\"pattern_last_year\"] = pd.to_datetime(\n",
    "        pattern[\"pattern_last_year\"]\n",
    "    ).dt.strftime(\"%Y-%m-%d\")\n",
    "    return pattern\n",
    "\n",
    "\n",
    "def extract_master_store(*months: str):\n",
    "    master = pd.read_parquet(\n",
    "        \"s3://mega-dev-lake/Staging/Master/Master Store/2024/data.parquet\"\n",
    "    )\n",
    "\n",
    "    month_name = [pd.to_datetime(month, format=\"%m\").month_name() for month in months]\n",
    "\n",
    "    if month_name != \"All\":\n",
    "        master = master[master[\"month\"].isin(month_name)]\n",
    "    else:\n",
    "        pass\n",
    "\n",
    "    return master\n",
    "\n",
    "\n",
    "def extract_master_online(master):\n",
    "    master_online = master[master[\"main_channel\"] == \"ONLINE\"]\n",
    "    master_online[\"marketplace\"] = master_online[\"stdname\"].str.split(\" \").str.get(2)\n",
    "    master_online[\"brand\"] = master_online[\"stdname\"].str.split(\" \").str.get(1)\n",
    "    master_online[\"marketplace\"] = master_online[\"marketplace\"].fillna(\"\")\n",
    "\n",
    "    master_online[\"marketplace\"] = np.where(\n",
    "        master_online[\"marketplace\"].isin(\n",
    "            [\n",
    "                \"MANZONESTORE.ID\",\n",
    "                \"MINIMALSTORE.ID\",\n",
    "                \"MOCSTORE.ID\",\n",
    "                \"WEBSITE\",\n",
    "            ]\n",
    "        ),\n",
    "        \"SHOPIFY\",\n",
    "        master_online[\"marketplace\"],\n",
    "    )\n",
    "\n",
    "    master_online = master_online[master_online[\"openstatus\"] == \"OPEN\"]\n",
    "    return master_online\n",
    "\n",
    "def main_extract(year, *months):\n",
    "    pattern_path = \"s3://mega-lake/ProcessedData/Sales/pattern/pattern_24_with_festive.xlsx\"\n",
    "    \n",
    "    sheet_name = \"offline\"\n",
    "\n",
    "    # Extract existing data\n",
    "    df_offline = extract_data_sales_offline(year, *months)\n",
    "    df_online = extract_data_sales_online(year, *months)\n",
    "    pattern = extract_pattern_data(pattern_path, sheet_name, *months)\n",
    "    master_store = extract_master_store(*months)\n",
    "    master_online = extract_master_online(master_store)\n",
    "    \n",
    "    # Extract historical data (last year)\n",
    "    list_month_lastyear = pd.to_datetime(pattern[~(pattern['pattern_last_year'].isna())]['pattern_last_year']).dt.strftime(\"%m\").unique()\n",
    "    year_hist = pd.to_datetime(pattern[~(pattern['pattern_last_year'].isna())]['pattern_last_year']).dt.strftime(\"%Y\").unique()[0]\n",
    "    \n",
    "    df_offline_hist = extract_data_sales_offline(year_hist, *list_month_lastyear)\n",
    "    df_online_hist = extract_data_sales_online(year_hist, *list_month_lastyear)\n",
    "    \n",
    "    return df_offline, df_online, pattern, master_store, master_online, df_offline_hist, df_online_hist"
   ]
  },
  {
   "cell_type": "code",
   "execution_count": 3,
   "metadata": {},
   "outputs": [],
   "source": []
  },
  {
   "cell_type": "markdown",
   "metadata": {},
   "source": [
    "# Transformasi"
   ]
  },
  {
   "cell_type": "code",
   "execution_count": 4,
   "metadata": {},
   "outputs": [],
   "source": [
    "def transformasi_sales(df_offline, df_online, master_online):\n",
    "    df_offline_agg = (\n",
    "        df_offline.groupby(\n",
    "            [\"dataareaid\", \"axcode\", \"order_create_date\", \"category\", \"subcategory\"],\n",
    "            as_index=False,\n",
    "        )\n",
    "        .agg({\"cust_paid_peritem\": \"sum\", \"quantity\": \"sum\", \"hpp_total\": \"sum\"})\n",
    "        .rename(columns={\"order_create_date\": \"date\"})\n",
    "    )\n",
    "\n",
    "    df_online_agg = (\n",
    "        master_online[[\"dataareaid\", \"axcode\", \"brand\", \"marketplace\"]]\n",
    "        .merge(\n",
    "            df_online.groupby(\n",
    "                [\"brand\", \"marketplace\", \"date\", \"category\", \"subcategory\"],\n",
    "                as_index=False,\n",
    "            )\n",
    "            .agg(\n",
    "                {\"value_after_voucher\": \"sum\", \"qty_sold\": \"sum\", \"existing_hpp\": \"sum\"}\n",
    "            )\n",
    "            .rename(\n",
    "                columns={\n",
    "                    \"value_after_voucher\": \"cust_paid_peritem\",\n",
    "                    \"qty_sold\": \"quantity\",\n",
    "                    \"existing_hpp\": \"hpp_total\",\n",
    "                }\n",
    "            ),\n",
    "            \"right\",\n",
    "            on=[\"brand\", \"marketplace\"],\n",
    "        )\n",
    "        .drop(columns=[\"brand\", \"marketplace\"])\n",
    "    )\n",
    "\n",
    "    df_agg = pd.concat([df_offline_agg, df_online_agg])\n",
    "    return df_agg\n",
    "\n",
    "\n",
    "def transformasi_with_pattern_exsiting(df_agg, pattern):\n",
    "    df_agg_pattern = df_agg.merge(\n",
    "        pattern[[\"pattern_date\", \"pattern_last_year\"]],\n",
    "        \"left\",\n",
    "        left_on=\"date\",\n",
    "        right_on=\"pattern_date\",\n",
    "    )\n",
    "    return df_agg_pattern\n",
    "\n",
    "\n",
    "def transformasi_with_pattern_hist(df_agg, pattern):\n",
    "    df_agg_pattern = df_agg.merge(\n",
    "        pattern[[\"pattern_date\", \"pattern_last_year\"]],\n",
    "        \"left\",\n",
    "        left_on=\"date\",\n",
    "        right_on=\"pattern_last_year\",\n",
    "    )\n",
    "    return df_agg_pattern\n",
    "\n",
    "\n",
    "def transformasi_growth_daily(df_existing, df_hist):\n",
    "    # Transformasi Growth\n",
    "    df_hist[\"date\"] = df_hist[\"pattern_date\"]\n",
    "    df_growth = df_existing.merge(\n",
    "        df_hist,\n",
    "        \"outer\",\n",
    "        on=[\n",
    "            \"dataareaid\",\n",
    "            \"axcode\",\n",
    "            \"category\",\n",
    "            \"subcategory\",\n",
    "            \"date\",\n",
    "            \"pattern_last_year\",\n",
    "        ],\n",
    "        suffixes=(\"_this_year\", \"_last_year\"),\n",
    "        indicator=True,\n",
    "    ).reset_index(drop=True)\n",
    "    df_growth[df_growth.select_dtypes(include=\"number\").columns] = df_growth[\n",
    "        df_growth.select_dtypes(include=\"number\").columns\n",
    "    ].fillna(0)\n",
    "\n",
    "    return df_growth\n",
    "\n",
    "\n",
    "def transformasi_to_report(df_growth, master_store):\n",
    "    df_report = master_store[\n",
    "        [\n",
    "            \"dataareaid\",\n",
    "            \"channel\",\n",
    "            \"brand\",\n",
    "            \"axcode\",\n",
    "            \"stdname\",\n",
    "            \"so dept head\",\n",
    "            \"area head\",\n",
    "            \"city head\",\n",
    "        ]\n",
    "    ].merge(df_growth, \"right\", on=[\"axcode\", \"dataareaid\"]).drop(columns=['pattern_date_this_year', 'pattern_date_last_year', '_merge'])\n",
    "\n",
    "\n",
    "    df_report.columns = df_report.columns.str.replace(\"_\", \" \").str.title()\n",
    "    return df_report\n",
    "\n",
    "def main_transformasi(df_offline, df_online, pattern, df_offline_hist, df_online_hist, master_online, master_store):\n",
    "    df_sales_existing = transformasi_sales(df_offline, df_online, master_online)\n",
    "    df_sales_hist = transformasi_sales(df_offline_hist, df_online_hist, master_online)\n",
    "    \n",
    "    df_sales_pattern_existing = transformasi_with_pattern_exsiting(df_sales_existing, pattern)\n",
    "    df_sales_pattern_hist = transformasi_with_pattern_hist(df_sales_hist, pattern)\n",
    "\n",
    "    max_date = df_sales_pattern_existing['date'].max()\n",
    "    df_sales_pattern_hist = df_sales_pattern_hist[df_sales_pattern_hist['pattern_date'] <= max_date]\n",
    "\n",
    "    df_growth = transformasi_growth_daily(df_sales_pattern_existing, df_sales_pattern_hist).query(\"_merge == 'both'\")\n",
    "    df_report = transformasi_to_report(df_growth,master_store)\n",
    "    \n",
    "    return df_report"
   ]
  },
  {
   "cell_type": "code",
   "execution_count": 5,
   "metadata": {},
   "outputs": [],
   "source": [
    "def load(df, month):\n",
    "    file_name = \"data.xlsx\"\n",
    "    path = f\"s3://mega-dev-lake/Staging/Sales/akumulasi/growth_peritem_v2/{month}/{file_name}\"\n",
    "    df.to_excel(path, index=False)"
   ]
  },
  {
   "cell_type": "code",
   "execution_count": 6,
   "metadata": {},
   "outputs": [],
   "source": [
    "def main(year, *month):\n",
    "    print(\"--- Start Extract ---\")\n",
    "    df_offline, df_online, pattern, master_store, master_online, df_offline_hist, df_online_hist = main_extract(year,*month)\n",
    "    \n",
    "    print(\"--- Start Transformasi ---\")\n",
    "    df_report = main_transformasi(df_offline, df_online, pattern, df_offline_hist, df_online_hist, master_online, master_store)\n",
    "    \n",
    "    print(\"--- Start Load Data ---\")\n",
    "    load(df_report)\n",
    "    print(\"--- Data Loaded ---\")"
   ]
  },
  {
   "cell_type": "code",
   "execution_count": 7,
   "metadata": {},
   "outputs": [
    {
     "ename": "NameError",
     "evalue": "name 'getSalesDetail' is not defined",
     "output_type": "error",
     "traceback": [
      "\u001b[1;31m---------------------------------------------------------------------------\u001b[0m",
      "\u001b[1;31mNameError\u001b[0m                                 Traceback (most recent call last)",
      "Input \u001b[1;32mIn [7]\u001b[0m, in \u001b[0;36m<cell line: 5>\u001b[1;34m()\u001b[0m\n\u001b[0;32m      3\u001b[0m df_online \u001b[38;5;241m=\u001b[39m pd\u001b[38;5;241m.\u001b[39mDataFrame()\n\u001b[0;32m      5\u001b[0m \u001b[38;5;28;01mfor\u001b[39;00m month \u001b[38;5;129;01min\u001b[39;00m [\u001b[38;5;124m'\u001b[39m\u001b[38;5;124m05\u001b[39m\u001b[38;5;124m'\u001b[39m]:\n\u001b[1;32m----> 6\u001b[0m     data_offline \u001b[38;5;241m=\u001b[39m \u001b[43mgetSalesDetail\u001b[49m(\u001b[38;5;124m\"\u001b[39m\u001b[38;5;124m2024\u001b[39m\u001b[38;5;124m\"\u001b[39m, month)\n\u001b[0;32m      7\u001b[0m     data_online \u001b[38;5;241m=\u001b[39m getSalesDetailOnline(\u001b[38;5;124m\"\u001b[39m\u001b[38;5;124m2024\u001b[39m\u001b[38;5;124m\"\u001b[39m, month)\n\u001b[0;32m      9\u001b[0m     df_offline\u001b[38;5;241m=\u001b[39m pd\u001b[38;5;241m.\u001b[39mconcat([df_offline, data_offline])\n",
      "\u001b[1;31mNameError\u001b[0m: name 'getSalesDetail' is not defined"
     ]
    }
   ],
   "source": [
    "# Data Existing\n",
    "df_offline = pd.DataFrame()\n",
    "df_online = pd.DataFrame()\n",
    "\n",
    "for month in ['05']:\n",
    "    data_offline = getSalesDetail(\"2024\", month)\n",
    "    data_online = getSalesDetailOnline(\"2024\", month)\n",
    "    \n",
    "    df_offline= pd.concat([df_offline, data_offline])\n",
    "    df_online= pd.concat([df_online, data_online])\n",
    "    \n",
    "df_offline['order_create_date'] = pd.to_datetime(df_offline['order_create_date']).dt.strftime(\"%Y-%m-%d\")\n",
    "df_online['date'] = pd.to_datetime(df_online['date']).dt.strftime(\"%Y-%m-%d\")"
   ]
  },
  {
   "cell_type": "code",
   "execution_count": null,
   "metadata": {},
   "outputs": [],
   "source": [
    "# Data Pattern\n",
    "pattern = pd.read_excel(\n",
    "    \"s3://mega-lake/ProcessedData/Sales/pattern/pattern_24_with_festive.xlsx\",\n",
    "    sheet_name=\"offline\",\n",
    ")\n",
    "\n",
    "pattern = pattern[pd.to_datetime(pattern['pattern_date']).dt.strftime(\"%m\").isin(['05'])]\n",
    "pattern['pattern_date'] = pd.to_datetime(pattern['pattern_date']).dt.strftime(\"%Y-%m-%d\")\n",
    "pattern['pattern_last_year'] = pd.to_datetime(pattern['pattern_last_year']).dt.strftime(\"%Y-%m-%d\")"
   ]
  },
  {
   "cell_type": "code",
   "execution_count": 44,
   "metadata": {},
   "outputs": [],
   "source": [
    "list_month_lastyear = pd.to_datetime(pattern[~(pattern['pattern_last_year'].isna())]['pattern_last_year']).dt.strftime(\"%m\").unique()\n",
    "list_year_lastyear = pd.to_datetime(pattern[~(pattern['pattern_last_year'].isna())]['pattern_last_year']).dt.strftime(\"%Y\").unique()"
   ]
  },
  {
   "cell_type": "code",
   "execution_count": 5,
   "metadata": {},
   "outputs": [],
   "source": [
    "# Data Last Year by Pattern\n",
    "df_last_year = pd.DataFrame()\n",
    "df_online_last_year = pd.DataFrame()\n",
    "for month in list_month_lastyear:\n",
    "    offline = getSalesDetail(\"2023\", month)\n",
    "    online = getSalesDetailOnline(\"2023\", month)\n",
    "    df_last_year = pd.concat([df_last_year, offline])\n",
    "    df_online_last_year = pd.concat([df_online_last_year, online])\n",
    "    \n",
    "df_last_year['order_create_date'] = pd.to_datetime(df_last_year['order_create_date']).dt.strftime(\"%Y-%m-%d\")\n",
    "df_online_last_year['date'] = pd.to_datetime(df_online_last_year['date']).dt.strftime(\"%Y-%m-%d\")"
   ]
  },
  {
   "cell_type": "code",
   "execution_count": 8,
   "metadata": {},
   "outputs": [],
   "source": [
    "# Data Master\n",
    "master = getMasterOnline(\"May\")"
   ]
  },
  {
   "cell_type": "markdown",
   "metadata": {},
   "source": [
    "# Transformasi"
   ]
  },
  {
   "cell_type": "code",
   "execution_count": 6,
   "metadata": {},
   "outputs": [],
   "source": [
    "# Transformasi data existing\n",
    "\n",
    "df_offline_agg = (\n",
    "    df_offline.groupby(\n",
    "        [\"dataareaid\", \"axcode\", \"order_create_date\", \"category\", \"subcategory\"],\n",
    "        as_index=False,\n",
    "    )\n",
    "    .agg({\"cust_paid_peritem\": \"sum\", \"quantity\": \"sum\", \"hpp_total\": \"sum\"})\n",
    "    .rename(columns={\"order_create_date\": \"date\"})\n",
    ")\n",
    "\n",
    "df_online_agg = (\n",
    "    master[[\"dataareaid\", \"axcode\", \"brand\", \"marketplace\"]]\n",
    "    .merge(\n",
    "        df_online.groupby(\n",
    "            [\"brand\", \"marketplace\", \"date\", \"category\", \"subcategory\"], as_index=False\n",
    "        )\n",
    "        .agg({\"value_after_voucher\": \"sum\", \"qty_sold\": \"sum\", \"existing_hpp\": \"sum\"})\n",
    "        .rename(\n",
    "            columns={\n",
    "                \"value_after_voucher\": \"cust_paid_peritem\",\n",
    "                \"qty_sold\": \"quantity\",\n",
    "                \"existing_hpp\": \"hpp_total\",\n",
    "            }\n",
    "        ),\n",
    "        \"right\",\n",
    "        on=[\"brand\", \"marketplace\"],\n",
    "    )\n",
    "    .drop(columns=[\"brand\", \"marketplace\"])\n",
    ")\n",
    "\n",
    "df_24 = pd.concat([df_offline_agg, df_online_agg])"
   ]
  },
  {
   "cell_type": "code",
   "execution_count": 14,
   "metadata": {},
   "outputs": [],
   "source": [
    "df_24_pattern = df_24.merge(\n",
    "    pattern[[\"pattern_date\", \"pattern_last_year\"]],\n",
    "    \"left\",\n",
    "    left_on=\"date\",\n",
    "    right_on=\"pattern_date\",\n",
    ")"
   ]
  },
  {
   "cell_type": "code",
   "execution_count": 13,
   "metadata": {},
   "outputs": [],
   "source": [
    "# Transformasi Data Last Year\n",
    "df_last_year = df_last_year[\n",
    "    (df_last_year[\"status_order\"] != 7)\n",
    "    & (df_last_year[\"issettled\"] != False)\n",
    "    & (df_last_year[\"istransaction\"] != \"0\")\n",
    "    & (df_last_year[\"channel\"] != \"ONLINE\")\n",
    "]\n",
    "df_online_last_year = df_online_last_year[\n",
    "    df_online_last_year[\"status_sales\"] != \"CANCELED\"\n",
    "]\n",
    "\n",
    "df_last_year_agg = (\n",
    "    df_last_year.groupby(\n",
    "        [\"dataareaid\", \"axcode\", \"order_create_date\", \"category\", \"subcategory\"],\n",
    "        as_index=False,\n",
    "    )\n",
    "    .agg({\"cust_paid_peritem\": \"sum\", \"quantity\": \"sum\", \"hpp_total\": \"sum\"})\n",
    "    .rename(columns={\"order_create_date\": \"date\"})\n",
    ")\n",
    "\n",
    "df_online_last_year[\"marketplace\"] = np.where(\n",
    "    df_online_last_year[\"marketplace\"].isin(\n",
    "        [\"MANZONESTORE.ID\", \"MOCSTORE.ID\", \"MINIMALSTORE.ID\", \"WEBSITE\"]\n",
    "    ),\n",
    "    \"SHOPIFY\",\n",
    "    df_online_last_year[\"marketplace\"],\n",
    ")\n",
    "\n",
    "df_online_last_year_agg = (\n",
    "    master[[\"dataareaid\", \"axcode\", \"brand\", \"marketplace\"]]\n",
    "    .merge(\n",
    "        df_online_last_year.groupby(\n",
    "            [\"brand\", \"marketplace\", \"date\", \"category\", \"subcategory\"], as_index=False\n",
    "        )\n",
    "        .agg({\"value_after_voucher\": \"sum\", \"qty_sold\": \"sum\", \"existing_hpp\": \"sum\"})\n",
    "        .rename(\n",
    "            columns={\n",
    "                \"value_after_voucher\": \"cust_paid_peritem\",\n",
    "                \"qty_sold\": \"quantity\",\n",
    "                \"existing_hpp\": \"hpp_total\",\n",
    "            }\n",
    "        ),\n",
    "        \"right\",\n",
    "        on=[\"brand\", \"marketplace\"],\n",
    "    )\n",
    "    .drop(columns=[\"brand\", \"marketplace\"])\n",
    ")\n",
    "\n",
    "df_23 = pd.concat([df_last_year_agg, df_online_last_year_agg])\n"
   ]
  },
  {
   "cell_type": "code",
   "execution_count": 15,
   "metadata": {},
   "outputs": [],
   "source": [
    "max_date = df_24_pattern['date'].max()\n",
    "\n",
    "df_23_pattern = df_23.merge(\n",
    "    pattern[[\"pattern_date\", \"pattern_last_year\"]],\n",
    "    \"left\",\n",
    "    left_on=\"date\",\n",
    "    right_on=\"pattern_last_year\",\n",
    ")\n",
    "df_23_pattern[\"date\"] = df_23_pattern[\"pattern_date\"]\n",
    "df_23_pattern = df_23_pattern[df_23_pattern['date'] <= max_date]"
   ]
  },
  {
   "cell_type": "code",
   "execution_count": 18,
   "metadata": {},
   "outputs": [],
   "source": [
    "# Transformasi Growth\n",
    "df_growth = df_24_pattern.merge(\n",
    "    df_23_pattern,\n",
    "    \"outer\",\n",
    "    on=[\n",
    "        \"dataareaid\",\n",
    "        \"axcode\",\n",
    "        \"category\",\n",
    "        \"subcategory\",\n",
    "        \"date\",\n",
    "        \"pattern_last_year\",\n",
    "    ],\n",
    "    suffixes=(\"_this_year\", \"_last_year\"),\n",
    ").reset_index()\n",
    "\n",
    "max_date = pd.to_datetime(df_24[\"date\"]).max()\n",
    "\n",
    "df_growth = df_growth[pd.to_datetime(df_growth[\"date\"]) <= max_date]\n",
    "df_growth[df_growth.select_dtypes(include='number').columns] = df_growth[df_growth.select_dtypes(include='number').columns].fillna(0)"
   ]
  },
  {
   "cell_type": "code",
   "execution_count": 24,
   "metadata": {},
   "outputs": [],
   "source": [
    "# Transformasi Growth by Month\n",
    "df_growth_monthly = df_24.merge(\n",
    "    df_23,\n",
    "    \"outer\",\n",
    "    on=[\n",
    "        \"dataareaid\",\n",
    "        \"axcode\",\n",
    "        \"category\",\n",
    "        \"subcategory\",\n",
    "    ],\n",
    "    suffixes=(\"_this_year\", \"_last_year\"),\n",
    ").reset_index()\n",
    "\n",
    "df_growth[df_growth.select_dtypes(include='number').columns] = df_growth[df_growth.select_dtypes(include='number').columns].fillna(0)\n",
    "\n",
    "# max_date = pd.to_datetime(df_24[\"date\"]).max()"
   ]
  },
  {
   "cell_type": "code",
   "execution_count": 25,
   "metadata": {},
   "outputs": [
    {
     "data": {
      "text/plain": [
       "cust_paid_peritem_this_year    4.336349e+10\n",
       "cust_paid_peritem_last_year    4.550924e+10\n",
       "quantity_this_year             2.490620e+05\n",
       "quantity_last_year             2.395240e+05\n",
       "dtype: float64"
      ]
     },
     "execution_count": 25,
     "metadata": {},
     "output_type": "execute_result"
    }
   ],
   "source": [
    "df_growth.agg(\n",
    "    {\n",
    "        \"cust_paid_peritem_this_year\": \"sum\",\n",
    "        \"cust_paid_peritem_last_year\": \"sum\",\n",
    "        \"quantity_this_year\": \"sum\",\n",
    "        \"quantity_last_year\": \"sum\",\n",
    "    }\n",
    ")"
   ]
  },
  {
   "cell_type": "markdown",
   "metadata": {},
   "source": [
    "# Validasi"
   ]
  },
  {
   "cell_type": "code",
   "execution_count": 31,
   "metadata": {},
   "outputs": [
    {
     "data": {
      "text/plain": [
       "45509237045.47619"
      ]
     },
     "execution_count": 31,
     "metadata": {},
     "output_type": "execute_result"
    }
   ],
   "source": [
    "df_23[df_23[\"date\"].isin(df_growth[\"pattern_last_year\"].unique())]['cust_paid_peritem'].sum()"
   ]
  },
  {
   "cell_type": "code",
   "execution_count": 25,
   "metadata": {},
   "outputs": [],
   "source": [
    "master_store = getMasterStore(\"April\")"
   ]
  },
  {
   "cell_type": "code",
   "execution_count": 26,
   "metadata": {},
   "outputs": [],
   "source": [
    "df_growth = master_store[\n",
    "    [\n",
    "        \"dataareaid\",\n",
    "        \"channel\",\n",
    "        \"brand\",\n",
    "        \"axcode\",\n",
    "        \"stdname\",\n",
    "        \"so dept head\",\n",
    "        \"area head\",\n",
    "        \"city head\",\n",
    "    ]\n",
    "].merge(df_growth, \"right\", on=[\"axcode\", \"dataareaid\"])\n",
    "df_growth.columns = df_growth.columns.str.replace(\"_\", \" \").str.title()"
   ]
  },
  {
   "cell_type": "code",
   "execution_count": 27,
   "metadata": {},
   "outputs": [],
   "source": [
    "df_growth.columns = df_growth.columns.str.replace(\"_\", \" \").str.title()"
   ]
  },
  {
   "cell_type": "code",
   "execution_count": 28,
   "metadata": {},
   "outputs": [
    {
     "data": {
      "text/plain": [
       "Cust Paid Peritem This Year    2.813675e+11\n",
       "Cust Paid Peritem Last Year    2.746963e+11\n",
       "Quantity This Year             1.579866e+06\n",
       "Quantity Last Year             1.437285e+06\n",
       "dtype: float64"
      ]
     },
     "execution_count": 28,
     "metadata": {},
     "output_type": "execute_result"
    }
   ],
   "source": [
    "df_growth.agg(\n",
    "    {\n",
    "        \"Cust Paid Peritem This Year\": \"sum\",\n",
    "        \"Cust Paid Peritem Last Year\": \"sum\",\n",
    "        \"Quantity This Year\": \"sum\",\n",
    "        \"Quantity Last Year\": \"sum\",\n",
    "    }\n",
    ")"
   ]
  },
  {
   "cell_type": "code",
   "execution_count": 29,
   "metadata": {},
   "outputs": [
    {
     "data": {
      "text/plain": [
       "cust_paid_peritem    2.813675e+11\n",
       "dtype: float64"
      ]
     },
     "execution_count": 29,
     "metadata": {},
     "output_type": "execute_result"
    }
   ],
   "source": [
    "df_24.agg({\"cust_paid_peritem\": \"sum\"})"
   ]
  },
  {
   "cell_type": "code",
   "execution_count": 30,
   "metadata": {},
   "outputs": [
    {
     "data": {
      "text/plain": [
       "cust_paid_peritem    2.746963e+11\n",
       "dtype: float64"
      ]
     },
     "execution_count": 30,
     "metadata": {},
     "output_type": "execute_result"
    }
   ],
   "source": [
    "df_23.agg({\"cust_paid_peritem\": \"sum\"})"
   ]
  },
  {
   "cell_type": "code",
   "execution_count": 32,
   "metadata": {},
   "outputs": [],
   "source": [
    "df_growth.to_excel(\"Data Sales Growth Per Cat Periode Mar - April.xlsx\", index=False)"
   ]
  },
  {
   "cell_type": "code",
   "execution_count": null,
   "metadata": {},
   "outputs": [],
   "source": []
  }
 ],
 "metadata": {
  "kernelspec": {
   "display_name": "Python 3",
   "language": "python",
   "name": "python3"
  },
  "language_info": {
   "codemirror_mode": {
    "name": "ipython",
    "version": 3
   },
   "file_extension": ".py",
   "mimetype": "text/x-python",
   "name": "python",
   "nbconvert_exporter": "python",
   "pygments_lexer": "ipython3",
   "version": "3.10.6"
  }
 },
 "nbformat": 4,
 "nbformat_minor": 2
}
